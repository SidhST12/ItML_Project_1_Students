{
 "cells": [
  {
   "cell_type": "code",
   "execution_count": 7,
   "metadata": {},
   "outputs": [],
   "source": [
    "import pandas as pd"
   ]
  },
  {
   "cell_type": "markdown",
   "metadata": {},
   "source": [
    "### Evaluator of Comment Accuracy"
   ]
  },
  {
   "cell_type": "code",
   "execution_count": 8,
   "metadata": {},
   "outputs": [],
   "source": [
    "def scoreChecker(df_sub, df_correct):\n",
    "    check_full = pd.merge(df_sub, df_correct, how='inner', left_on = 'id', right_on = 'id')\n",
    "    corr_cols = [\"toxic_y\", \"severe_toxic_y\", \"obscene_y\", \"threat_y\", \"insult_y\", \"identity_hate_y\"]\n",
    "    sub_cols = [\"toxic_x\", \"severe_toxic_x\", \"obscene_x\", \"threat_x\", \"insult_x\", \"identity_hate_x\"]\n",
    "    first_val = \"toxic_y\"\n",
    "    correct = 0\n",
    "    total = 0\n",
    "    #print(check_full)\n",
    "    for index, sub_row in check_full.iterrows():\n",
    "        if sub_row[first_val] >= 0:\n",
    "            total += len(corr_cols)\n",
    "            for i in range(len(corr_cols)):\n",
    "                if sub_row[sub_cols[i]] == sub_row[corr_cols[i]]:\n",
    "                    correct += 1\n",
    "    \n",
    "    return correct, total, check_full"
   ]
  },
  {
   "cell_type": "code",
   "execution_count": 11,
   "metadata": {},
   "outputs": [],
   "source": [
    "submission = pd.read_csv(\"out.csv\")\n",
    "key = pd.read_csv(\"sample_correct.csv\")"
   ]
  },
  {
   "cell_type": "code",
   "execution_count": 12,
   "metadata": {},
   "outputs": [
    {
     "ename": "KeyError",
     "evalue": "'id'",
     "output_type": "error",
     "traceback": [
      "\u001b[1;31m---------------------------------------------------------------------------\u001b[0m",
      "\u001b[1;31mKeyError\u001b[0m                                  Traceback (most recent call last)",
      "\u001b[1;32mc:\\Users\\shikh\\OneDrive\\Documents\\DATA-3950\\ItML_Project_1_Students\\prediction_evaluator.ipynb Cell 5\u001b[0m in \u001b[0;36m<cell line: 1>\u001b[1;34m()\u001b[0m\n\u001b[1;32m----> <a href='vscode-notebook-cell:/c%3A/Users/shikh/OneDrive/Documents/DATA-3950/ItML_Project_1_Students/prediction_evaluator.ipynb#W4sZmlsZQ%3D%3D?line=0'>1</a>\u001b[0m correct, total, df_res \u001b[39m=\u001b[39m scoreChecker(submission, key)\n\u001b[0;32m      <a href='vscode-notebook-cell:/c%3A/Users/shikh/OneDrive/Documents/DATA-3950/ItML_Project_1_Students/prediction_evaluator.ipynb#W4sZmlsZQ%3D%3D?line=1'>2</a>\u001b[0m \u001b[39mprint\u001b[39m(correct, total, (correct\u001b[39m*\u001b[39m\u001b[39m100\u001b[39m\u001b[39m/\u001b[39mtotal))\n\u001b[0;32m      <a href='vscode-notebook-cell:/c%3A/Users/shikh/OneDrive/Documents/DATA-3950/ItML_Project_1_Students/prediction_evaluator.ipynb#W4sZmlsZQ%3D%3D?line=2'>3</a>\u001b[0m df_res\u001b[39m.\u001b[39mhead()\n",
      "\u001b[1;32mc:\\Users\\shikh\\OneDrive\\Documents\\DATA-3950\\ItML_Project_1_Students\\prediction_evaluator.ipynb Cell 5\u001b[0m in \u001b[0;36mscoreChecker\u001b[1;34m(df_sub, df_correct)\u001b[0m\n\u001b[0;32m      <a href='vscode-notebook-cell:/c%3A/Users/shikh/OneDrive/Documents/DATA-3950/ItML_Project_1_Students/prediction_evaluator.ipynb#W4sZmlsZQ%3D%3D?line=0'>1</a>\u001b[0m \u001b[39mdef\u001b[39;00m \u001b[39mscoreChecker\u001b[39m(df_sub, df_correct):\n\u001b[1;32m----> <a href='vscode-notebook-cell:/c%3A/Users/shikh/OneDrive/Documents/DATA-3950/ItML_Project_1_Students/prediction_evaluator.ipynb#W4sZmlsZQ%3D%3D?line=1'>2</a>\u001b[0m     check_full \u001b[39m=\u001b[39m pd\u001b[39m.\u001b[39;49mmerge(df_sub, df_correct, how\u001b[39m=\u001b[39;49m\u001b[39m'\u001b[39;49m\u001b[39minner\u001b[39;49m\u001b[39m'\u001b[39;49m, left_on \u001b[39m=\u001b[39;49m \u001b[39m'\u001b[39;49m\u001b[39mid\u001b[39;49m\u001b[39m'\u001b[39;49m, right_on \u001b[39m=\u001b[39;49m \u001b[39m'\u001b[39;49m\u001b[39mid\u001b[39;49m\u001b[39m'\u001b[39;49m)\n\u001b[0;32m      <a href='vscode-notebook-cell:/c%3A/Users/shikh/OneDrive/Documents/DATA-3950/ItML_Project_1_Students/prediction_evaluator.ipynb#W4sZmlsZQ%3D%3D?line=2'>3</a>\u001b[0m     corr_cols \u001b[39m=\u001b[39m [\u001b[39m\"\u001b[39m\u001b[39mtoxic_y\u001b[39m\u001b[39m\"\u001b[39m, \u001b[39m\"\u001b[39m\u001b[39msevere_toxic_y\u001b[39m\u001b[39m\"\u001b[39m, \u001b[39m\"\u001b[39m\u001b[39mobscene_y\u001b[39m\u001b[39m\"\u001b[39m, \u001b[39m\"\u001b[39m\u001b[39mthreat_y\u001b[39m\u001b[39m\"\u001b[39m, \u001b[39m\"\u001b[39m\u001b[39minsult_y\u001b[39m\u001b[39m\"\u001b[39m, \u001b[39m\"\u001b[39m\u001b[39midentity_hate_y\u001b[39m\u001b[39m\"\u001b[39m]\n\u001b[0;32m      <a href='vscode-notebook-cell:/c%3A/Users/shikh/OneDrive/Documents/DATA-3950/ItML_Project_1_Students/prediction_evaluator.ipynb#W4sZmlsZQ%3D%3D?line=3'>4</a>\u001b[0m     sub_cols \u001b[39m=\u001b[39m [\u001b[39m\"\u001b[39m\u001b[39mtoxic_x\u001b[39m\u001b[39m\"\u001b[39m, \u001b[39m\"\u001b[39m\u001b[39msevere_toxic_x\u001b[39m\u001b[39m\"\u001b[39m, \u001b[39m\"\u001b[39m\u001b[39mobscene_x\u001b[39m\u001b[39m\"\u001b[39m, \u001b[39m\"\u001b[39m\u001b[39mthreat_x\u001b[39m\u001b[39m\"\u001b[39m, \u001b[39m\"\u001b[39m\u001b[39minsult_x\u001b[39m\u001b[39m\"\u001b[39m, \u001b[39m\"\u001b[39m\u001b[39midentity_hate_x\u001b[39m\u001b[39m\"\u001b[39m]\n",
      "File \u001b[1;32mc:\\Users\\shikh\\anaconda3\\lib\\site-packages\\pandas\\core\\reshape\\merge.py:107\u001b[0m, in \u001b[0;36mmerge\u001b[1;34m(left, right, how, on, left_on, right_on, left_index, right_index, sort, suffixes, copy, indicator, validate)\u001b[0m\n\u001b[0;32m     90\u001b[0m \u001b[39m@Substitution\u001b[39m(\u001b[39m\"\u001b[39m\u001b[39m\\n\u001b[39;00m\u001b[39mleft : DataFrame or named Series\u001b[39m\u001b[39m\"\u001b[39m)\n\u001b[0;32m     91\u001b[0m \u001b[39m@Appender\u001b[39m(_merge_doc, indents\u001b[39m=\u001b[39m\u001b[39m0\u001b[39m)\n\u001b[0;32m     92\u001b[0m \u001b[39mdef\u001b[39;00m \u001b[39mmerge\u001b[39m(\n\u001b[1;32m   (...)\u001b[0m\n\u001b[0;32m    105\u001b[0m     validate: \u001b[39mstr\u001b[39m \u001b[39m|\u001b[39m \u001b[39mNone\u001b[39;00m \u001b[39m=\u001b[39m \u001b[39mNone\u001b[39;00m,\n\u001b[0;32m    106\u001b[0m ) \u001b[39m-\u001b[39m\u001b[39m>\u001b[39m DataFrame:\n\u001b[1;32m--> 107\u001b[0m     op \u001b[39m=\u001b[39m _MergeOperation(\n\u001b[0;32m    108\u001b[0m         left,\n\u001b[0;32m    109\u001b[0m         right,\n\u001b[0;32m    110\u001b[0m         how\u001b[39m=\u001b[39;49mhow,\n\u001b[0;32m    111\u001b[0m         on\u001b[39m=\u001b[39;49mon,\n\u001b[0;32m    112\u001b[0m         left_on\u001b[39m=\u001b[39;49mleft_on,\n\u001b[0;32m    113\u001b[0m         right_on\u001b[39m=\u001b[39;49mright_on,\n\u001b[0;32m    114\u001b[0m         left_index\u001b[39m=\u001b[39;49mleft_index,\n\u001b[0;32m    115\u001b[0m         right_index\u001b[39m=\u001b[39;49mright_index,\n\u001b[0;32m    116\u001b[0m         sort\u001b[39m=\u001b[39;49msort,\n\u001b[0;32m    117\u001b[0m         suffixes\u001b[39m=\u001b[39;49msuffixes,\n\u001b[0;32m    118\u001b[0m         copy\u001b[39m=\u001b[39;49mcopy,\n\u001b[0;32m    119\u001b[0m         indicator\u001b[39m=\u001b[39;49mindicator,\n\u001b[0;32m    120\u001b[0m         validate\u001b[39m=\u001b[39;49mvalidate,\n\u001b[0;32m    121\u001b[0m     )\n\u001b[0;32m    122\u001b[0m     \u001b[39mreturn\u001b[39;00m op\u001b[39m.\u001b[39mget_result()\n",
      "File \u001b[1;32mc:\\Users\\shikh\\anaconda3\\lib\\site-packages\\pandas\\core\\reshape\\merge.py:700\u001b[0m, in \u001b[0;36m_MergeOperation.__init__\u001b[1;34m(self, left, right, how, on, left_on, right_on, axis, left_index, right_index, sort, suffixes, copy, indicator, validate)\u001b[0m\n\u001b[0;32m    693\u001b[0m \u001b[39mself\u001b[39m\u001b[39m.\u001b[39m_cross \u001b[39m=\u001b[39m cross_col\n\u001b[0;32m    695\u001b[0m \u001b[39m# note this function has side effects\u001b[39;00m\n\u001b[0;32m    696\u001b[0m (\n\u001b[0;32m    697\u001b[0m     \u001b[39mself\u001b[39m\u001b[39m.\u001b[39mleft_join_keys,\n\u001b[0;32m    698\u001b[0m     \u001b[39mself\u001b[39m\u001b[39m.\u001b[39mright_join_keys,\n\u001b[0;32m    699\u001b[0m     \u001b[39mself\u001b[39m\u001b[39m.\u001b[39mjoin_names,\n\u001b[1;32m--> 700\u001b[0m ) \u001b[39m=\u001b[39m \u001b[39mself\u001b[39;49m\u001b[39m.\u001b[39;49m_get_merge_keys()\n\u001b[0;32m    702\u001b[0m \u001b[39m# validate the merge keys dtypes. We may need to coerce\u001b[39;00m\n\u001b[0;32m    703\u001b[0m \u001b[39m# to avoid incompatible dtypes\u001b[39;00m\n\u001b[0;32m    704\u001b[0m \u001b[39mself\u001b[39m\u001b[39m.\u001b[39m_maybe_coerce_merge_keys()\n",
      "File \u001b[1;32mc:\\Users\\shikh\\anaconda3\\lib\\site-packages\\pandas\\core\\reshape\\merge.py:1110\u001b[0m, in \u001b[0;36m_MergeOperation._get_merge_keys\u001b[1;34m(self)\u001b[0m\n\u001b[0;32m   1108\u001b[0m     right_keys\u001b[39m.\u001b[39mappend(rk)\n\u001b[0;32m   1109\u001b[0m \u001b[39mif\u001b[39;00m lk \u001b[39mis\u001b[39;00m \u001b[39mnot\u001b[39;00m \u001b[39mNone\u001b[39;00m:\n\u001b[1;32m-> 1110\u001b[0m     left_keys\u001b[39m.\u001b[39mappend(left\u001b[39m.\u001b[39;49m_get_label_or_level_values(lk))\n\u001b[0;32m   1111\u001b[0m     join_names\u001b[39m.\u001b[39mappend(lk)\n\u001b[0;32m   1112\u001b[0m \u001b[39melse\u001b[39;00m:\n\u001b[0;32m   1113\u001b[0m     \u001b[39m# work-around for merge_asof(left_index=True)\u001b[39;00m\n",
      "File \u001b[1;32mc:\\Users\\shikh\\anaconda3\\lib\\site-packages\\pandas\\core\\generic.py:1840\u001b[0m, in \u001b[0;36mNDFrame._get_label_or_level_values\u001b[1;34m(self, key, axis)\u001b[0m\n\u001b[0;32m   1838\u001b[0m     values \u001b[39m=\u001b[39m \u001b[39mself\u001b[39m\u001b[39m.\u001b[39maxes[axis]\u001b[39m.\u001b[39mget_level_values(key)\u001b[39m.\u001b[39m_values\n\u001b[0;32m   1839\u001b[0m \u001b[39melse\u001b[39;00m:\n\u001b[1;32m-> 1840\u001b[0m     \u001b[39mraise\u001b[39;00m \u001b[39mKeyError\u001b[39;00m(key)\n\u001b[0;32m   1842\u001b[0m \u001b[39m# Check for duplicates\u001b[39;00m\n\u001b[0;32m   1843\u001b[0m \u001b[39mif\u001b[39;00m values\u001b[39m.\u001b[39mndim \u001b[39m>\u001b[39m \u001b[39m1\u001b[39m:\n",
      "\u001b[1;31mKeyError\u001b[0m: 'id'"
     ]
    }
   ],
   "source": [
    "correct, total, df_res = scoreChecker(submission, key)\n",
    "print(correct, total, (correct*100/total))\n",
    "df_res.head()"
   ]
  }
 ],
 "metadata": {
  "kernelspec": {
   "display_name": "base",
   "language": "python",
   "name": "python3"
  },
  "language_info": {
   "codemirror_mode": {
    "name": "ipython",
    "version": 3
   },
   "file_extension": ".py",
   "mimetype": "text/x-python",
   "name": "python",
   "nbconvert_exporter": "python",
   "pygments_lexer": "ipython3",
   "version": "3.9.12"
  },
  "orig_nbformat": 4,
  "vscode": {
   "interpreter": {
    "hash": "ac84c186c3977d3f3331649749bf53276a5c5befb029be0bc359ac378ed9e33b"
   }
  }
 },
 "nbformat": 4,
 "nbformat_minor": 2
}
